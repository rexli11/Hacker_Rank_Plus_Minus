{
 "cells": [
  {
   "cell_type": "code",
   "execution_count": 2,
   "metadata": {},
   "outputs": [
    {
     "name": "stdout",
     "output_type": "stream",
     "text": [
      "po =  0.500000\n",
      "ne =  0.333333\n",
      "ze =  0.166667\n"
     ]
    }
   ],
   "source": [
    "'''\n",
    "題目 : 判斷一個arr中數字正負數字出現的次數，將其除與arr的長度後轉換為十進制\n",
    "範圍 : 0 < n <= 100，-100 < len(arr) <= 100\n",
    "解題方向 : 設定正負個數、判斷正負後做計算\n",
    "'''\n",
    "\n",
    "def plus_minus(arr, n) : \n",
    "    # 設定正、負、零個數\n",
    "    po = 0\n",
    "    ne = 0\n",
    "    ze = 0\n",
    "\n",
    "    # 判斷n與arr範圍\n",
    "    if 0 < n <= 100 and -100 < len(arr) <= 100 :\n",
    "        # 取arr的長度作為迴圈範圍\n",
    "        for i in range(len(arr)) : \n",
    "            # arr[i] >> 取出arr中0,1,2,3,4,5的值判斷正負\n",
    "            if arr[i] > 0 :\n",
    "                # 個數加一 \n",
    "                po += 1\n",
    "            elif arr[i] < 0 :\n",
    "                ne += 1\n",
    "            elif arr[i] == 0 : \n",
    "                ze += 1\n",
    "        \n",
    "        # 依照題目的公式計算\n",
    "        print(\"po = \", \"%f\"%(po / len(arr)))\n",
    "        print(\"ne = \", \"%f\"%(ne / len(arr)))\n",
    "        print(\"ze = \", \"%f\"%(ze / len(arr)))\n",
    "    else : \n",
    "        print(\"error arr and n\")\n",
    "\n",
    "\n",
    "if __name__ == \"__main__\" : \n",
    "    arr = [-4, 3, -9, 0, 4, 1]\n",
    "    n = 6\n",
    "    plus_minus(arr, n)"
   ]
  }
 ],
 "metadata": {
  "interpreter": {
   "hash": "b3ba2566441a7c06988d0923437866b63cedc61552a5af99d1f4fb67d367b25f"
  },
  "kernelspec": {
   "display_name": "Python 3.8.8 64-bit ('base': conda)",
   "language": "python",
   "name": "python3"
  },
  "language_info": {
   "codemirror_mode": {
    "name": "ipython",
    "version": 3
   },
   "file_extension": ".py",
   "mimetype": "text/x-python",
   "name": "python",
   "nbconvert_exporter": "python",
   "pygments_lexer": "ipython3",
   "version": "3.8.8"
  },
  "orig_nbformat": 4
 },
 "nbformat": 4,
 "nbformat_minor": 2
}
